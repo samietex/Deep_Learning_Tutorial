{
 "cells": [
  {
   "cell_type": "markdown",
   "metadata": {},
   "source": [
    "## Face Detection of images using OpenCV in Python: A Beginner's Guide\n",
    "\n",
    "Welcome to this beginner-friendly guide on how to perform basic face detection using OpenCV in Python. This tutorial covers loading an image, converting it to grayscale, detecting faces, and drawing rectangles around them.\n",
    "\n",
    "This is a documentation of a simple implementation of the face detection of images using OpenCV and a pretrained `haarcascade_frontalface_default.xml` data. \n",
    "\n",
    "### Prerequisites\n",
    "\n",
    "* Python installed on your computer\n",
    "* OpenCV-Python package installed. You can install it using pip:"
   ]
  },
  {
   "cell_type": "code",
   "execution_count": null,
   "metadata": {},
   "outputs": [],
   "source": [
    "! pip install opencv-python"
   ]
  },
  {
   "cell_type": "markdown",
   "metadata": {},
   "source": [
    "* Basic understanding of Python programming.\n",
    "\n",
    "### Step-by-Step Tutorial\n",
    "\n",
    "**Import OpenCV Library:**\n",
    "First, you need to import the OpenCV library in your Python script. If you haven't installed OpenCV yet, refer to the prerequisites section above."
   ]
  },
  {
   "cell_type": "code",
   "execution_count": 1,
   "metadata": {},
   "outputs": [],
   "source": [
    "import cv2"
   ]
  },
  {
   "cell_type": "markdown",
   "metadata": {},
   "source": [
    "This line imports the OpenCV (Open Source Computer Vision Library) library into your Python script. OpenCV is a huge open-source library for computer vision, machine learning, and image processing. It's widely used for tasks like face detection and object recognition. By importing it as cv2, you're giving yourself access to all the functions and classes available in the OpenCV library.\n",
    "\n",
    "**Load the Haar Cascade Classifier:**\n",
    "We will use a pre-trained Haar Cascade model provided by OpenCV to detect faces. This model is stored in an XML file."
   ]
  },
  {
   "cell_type": "code",
   "execution_count": 2,
   "metadata": {},
   "outputs": [],
   "source": [
    "face_cascade = cv2.CascadeClassifier('haarcascade_frontalface_default.xml')"
   ]
  },
  {
   "cell_type": "markdown",
   "metadata": {},
   "source": [
    "Haar Cascade is an object detection method used to identify objects in an image or video, and it's particularly good for face detection. The CascadeClassifier function loads a cascade of classifiers; in this case, it's specifically for detecting faces. The XML file `'haarcascade_frontalface_default.xml'` contains pre-trained data on face features. This file is an essential part of the Haar Cascade algorithm and includes the parameters required for detecting faces.\n",
    "\n",
    "**Read the Input Image:**\n",
    "Load the image in which you want to detect faces. Replace 'test.jpg' with the path to your image file."
   ]
  },
  {
   "cell_type": "code",
   "execution_count": 3,
   "metadata": {},
   "outputs": [],
   "source": [
    "img = cv2.imread('test.jpg')"
   ]
  },
  {
   "cell_type": "markdown",
   "metadata": {},
   "source": [
    "This function, `cv2.imread`, reads the image file `test.jpg` from your file system and converts it into a format that `OpenCV` can use (a multi-dimensional NumPy array). This is the image you will be performing face detection on.\n",
    "\n",
    "**Convert the Image to Grayscale:**\n",
    "The face detection algorithm works better on grayscale images because it simplifies the image, reducing the need to process color information."
   ]
  },
  {
   "cell_type": "code",
   "execution_count": 4,
   "metadata": {},
   "outputs": [],
   "source": [
    "gray = cv2.cvtColor(img, cv2.COLOR_BGR2GRAY)"
   ]
  },
  {
   "cell_type": "markdown",
   "metadata": {},
   "source": [
    "The `cv2.cvtColor` function converts the image from one color space to another. Here, it converts the image from the BGR (Blue, Green, Red) color space (which OpenCV uses by default) to grayscale. Grayscale is used because the Haar Cascade function works in a single color channel. Working with a single color channel reduces computational complexity, as there's less information to process compared to a full-color image.\n",
    "\n",
    "**Detect Faces:**\n",
    "Now, we will use the detectMultiScale method to detect faces in the image. The parameters control the scaling of the image and the number of neighbors each rectangle should have."
   ]
  },
  {
   "cell_type": "code",
   "execution_count": 5,
   "metadata": {},
   "outputs": [],
   "source": [
    "faces = face_cascade.detectMultiScale(gray, 1.1, 4)"
   ]
  },
  {
   "cell_type": "markdown",
   "metadata": {},
   "source": [
    "`detectMultiScale` is a method to detect objects, in this case, faces. The function scales the image multiple times and detects faces at different sizes. The parameters `1.1` and `4` are crucial:\n",
    "\n",
    "* The first parameter, `1.1`, is the scale factor. It specifies how much the image size is reduced at each image scale. A smaller value will detect smaller faces but increase the computation.\n",
    "* The second parameter, `4`, is the minNeighbors. This parameter specifies how many neighbors each candidate rectangle should have to retain it. This affects the quality of the detected faces. A higher number results in fewer detections but with higher quality.\n",
    "\n",
    "**Draw Rectangles Around Detected Faces:**\n",
    "For each detected face, draw a rectangle around it. The rectangle method takes parameters like the image, top-left corner, bottom-right corner, color of the rectangle, and its thickness."
   ]
  },
  {
   "cell_type": "code",
   "execution_count": 6,
   "metadata": {},
   "outputs": [],
   "source": [
    "for (x, y, w, h) in faces:\n",
    "    cv2.rectangle(img, (x, y), (x + w, y + h), (255, 0, 0), 2)"
   ]
  },
  {
   "cell_type": "markdown",
   "metadata": {},
   "source": [
    "For each detected face, represented by its top-left corner `(x, y)` and its width `w` and height `h`, this loop draws a rectangle around the face. The `cv2.rectangle` function is used here, where `(255, 0, 0)` represents the color blue for the rectangle border in the BGR format, and `2` is the thickness of the rectangle lines.\n",
    "\n",
    "**Display the Output:**\n",
    "We can then finally display the image with detected faces. The `imshow` method displays the image in a window, and waitKey waits for a key event."
   ]
  },
  {
   "cell_type": "code",
   "execution_count": 7,
   "metadata": {},
   "outputs": [
    {
     "data": {
      "text/plain": [
       "27"
      ]
     },
     "execution_count": 7,
     "metadata": {},
     "output_type": "execute_result"
    },
    {
     "ename": "",
     "evalue": "",
     "output_type": "error",
     "traceback": [
      "\u001b[1;31mThe Kernel crashed while executing code in the the current cell or a previous cell. Please review the code in the cell(s) to identify a possible cause of the failure. Click <a href='https://aka.ms/vscodeJupyterKernelCrash'>here</a> for more info. View Jupyter <a href='command:jupyter.viewOutput'>log</a> for further details."
     ]
    }
   ],
   "source": [
    "cv2.imshow('img', img)\n",
    "cv2.waitKey()"
   ]
  },
  {
   "cell_type": "markdown",
   "metadata": {},
   "source": [
    "`cv2.imshow` displays the image with the detected faces in a window. `cv2.waitKey()` is a keyboard binding function that waits for a specified amount of time for any keyboard event. If you press any key in that time, the program continues. If `0` is passed, it waits indefinitely for a key stroke. This is used here to keep the window open until the user closes it manually.\n",
    "\n",
    "Please note that this tutorial is a starting point in the world of computer vision and image processing. Feel free to experiment with different images and see how your face detection system performs. "
   ]
  },
  {
   "cell_type": "markdown",
   "metadata": {},
   "source": []
  }
 ],
 "metadata": {
  "kernelspec": {
   "display_name": "base",
   "language": "python",
   "name": "python3"
  },
  "language_info": {
   "codemirror_mode": {
    "name": "ipython",
    "version": 3
   },
   "file_extension": ".py",
   "mimetype": "text/x-python",
   "name": "python",
   "nbconvert_exporter": "python",
   "pygments_lexer": "ipython3",
   "version": "3.11.3"
  }
 },
 "nbformat": 4,
 "nbformat_minor": 2
}
